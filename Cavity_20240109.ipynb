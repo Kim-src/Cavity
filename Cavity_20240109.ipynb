{
  "nbformat": 4,
  "nbformat_minor": 0,
  "metadata": {
    "colab": {
      "provenance": [],
      "mount_file_id": "1GfbTJVz26qkdz9aqml9yMpeJy6NDrHIr",
      "authorship_tag": "ABX9TyMZmDAjt8MEL8sCayNbigI6",
      "include_colab_link": true
    },
    "kernelspec": {
      "name": "python3",
      "display_name": "Python 3"
    },
    "language_info": {
      "name": "python"
    }
  },
  "cells": [
    {
      "cell_type": "markdown",
      "metadata": {
        "id": "view-in-github",
        "colab_type": "text"
      },
      "source": [
        "<a href=\"https://colab.research.google.com/github/Kim-src/Cavity-Detection-Model/blob/main/Cavity_20240109.ipynb\" target=\"_parent\"><img src=\"https://colab.research.google.com/assets/colab-badge.svg\" alt=\"Open In Colab\"/></a>"
      ]
    },
    {
      "cell_type": "markdown",
      "source": [
        "# 🚀 Image Processing using Python\n"
      ],
      "metadata": {
        "id": "0fbnz-7582S4"
      }
    },
    {
      "cell_type": "markdown",
      "source": [
        "## ✅ Initiating a Cavity Detection Model (CDM) with TensorFlow"
      ],
      "metadata": {
        "id": "KzDv6h-P97mv"
      }
    },
    {
      "cell_type": "markdown",
      "source": [
        "### 📌 Code Summary\n",
        "> - Using TensorFlow of Python library\n",
        "> - Parsing, Preprocessing, Training on CDM"
      ],
      "metadata": {
        "id": "wXRifgNV_2u1"
      }
    },
    {
      "cell_type": "markdown",
      "source": [
        "#### ⛄ Update : January 9, 2024"
      ],
      "metadata": {
        "id": "1lSxyNzU9nWX"
      }
    },
    {
      "cell_type": "code",
      "source": [
        "# Original Code for Running Cavity\n",
        "\n",
        "import xml.etree.ElementTree as ET\n",
        "import cv2\n",
        "import numpy as np\n",
        "import tensorflow as tf\n",
        "from tensorflow.keras import layers, models\n",
        "from tensorflow.keras.preprocessing import image\n",
        "from tensorflow.keras.preprocessing.image import img_to_array\n",
        "\n",
        "\n",
        "# 함수: XML 파싱 및 이미지 로드\n",
        "\n",
        "\n",
        "def parse_annotation(xml_path):\n",
        "    tree = ET.parse(xml_path)\n",
        "    root = tree.getroot()\n",
        "\n",
        "    filename = root.find('filename').text\n",
        "    object_name = root.find('.//object/name').text\n",
        "\n",
        "    # 수정: 바운딩 박스의 좌표 정보는 XML 파일의 구조에 맞게 수정합니다.\n",
        "    xmin = float(root.find('.//bndbox/xmin').text)\n",
        "    ymin = float(root.find('.//bndbox/ymin').text)\n",
        "    xmax = float(root.find('.//bndbox/xmax').text)\n",
        "    ymax = float(root.find('.//bndbox/ymax').text)\n",
        "\n",
        "    return filename, object_name, xmin, ymin, xmax, ymax\n",
        "\n",
        "\n",
        "# 함수: 이미지 전처리\n",
        "def preprocess_image(image_path, target_size=(256, 256)):\n",
        "    img = image.load_img(image_path, target_size=target_size)\n",
        "    img_array = img_to_array(img)\n",
        "    img_array = np.expand_dims(img_array, axis=0)\n",
        "    img_array /= 255.0  # 이미지 정규화\n",
        "    return img_array\n",
        "\n",
        "\n",
        "# 데이터 경로 및 XML 파일 경로 설정\n",
        "image_path = \"/content/drive/MyDrive/MyPJT/Cavity_PJT/cavity_sample_img.jpg\"  # 실제 이미지 파일의 경로로 수정\n",
        "xml_path = \"/content/drive/MyDrive/MyPJT/Cavity_PJT/cavity_sample_xml.xml\"  # XML 파일의 경로로 수정\n",
        "\n",
        "\n",
        "# XML 파싱 및 데이터 추출\n",
        "filename, object_name, xmin, ymin, xmax, ymax = parse_annotation(xml_path)\n",
        "\n",
        "\n",
        "# 이미지 로드 및 전처리\n",
        "img_array = preprocess_image(image_path)\n",
        "\n",
        "\n",
        "# 모델 구성\n",
        "model = models.Sequential()\n",
        "model.add(layers.Conv2D(32, (3, 3), activation='relu', input_shape=(256, 256, 3)))\n",
        "model.add(layers.MaxPooling2D((2, 2)))\n",
        "model.add(layers.Conv2D(64, (3, 3), activation='relu'))\n",
        "model.add(layers.MaxPooling2D((2, 2)))\n",
        "model.add(layers.Conv2D(64, (3, 3), activation='relu'))\n",
        "model.add(layers.Flatten())\n",
        "model.add(layers.Dense(64, activation='relu'))\n",
        "model.add(layers.Dense(1, activation='sigmoid'))  # 이진 분류 예시\n",
        "\n",
        "\n",
        "# 모델 컴파일\n",
        "model.compile(optimizer='adam',\n",
        "              loss='binary_crossentropy',  # 이진 분류 예시\n",
        "              metrics=['accuracy'])\n",
        "\n",
        "# 모델 입력 데이터 준비\n",
        "X_train = np.array([img_array])  # 이미지 데이터를 numpy.ndarray로 변환\n",
        "\n",
        "# 모델 레이블 데이터 준비\n",
        "y_train = np.array([1])  # 이진 분류의 경우, 레이블을 numpy.ndarray로 변환\n",
        "\n",
        "# 이미지 데이터를 모델에 맞는 형태로 변환\n",
        "X_train = np.squeeze(X_train, axis=0)\n",
        "\n",
        "# 모델 훈련\n",
        "model.fit(X_train, y_train, epochs=5, batch_size=1)"
      ],
      "metadata": {
        "id": "mp1SNwPGCRHl",
        "colab": {
          "base_uri": "https://localhost:8080/"
        },
        "outputId": "a4073320-5375-46f9-9594-3b3c31a8fe7c"
      },
      "execution_count": 2,
      "outputs": [
        {
          "output_type": "stream",
          "name": "stdout",
          "text": [
            "Epoch 1/5\n",
            "1/1 [==============================] - 2s 2s/step - loss: 0.7050 - accuracy: 0.0000e+00\n",
            "Epoch 2/5\n",
            "1/1 [==============================] - 0s 291ms/step - loss: 2.1624e-18 - accuracy: 1.0000\n",
            "Epoch 3/5\n",
            "1/1 [==============================] - 0s 306ms/step - loss: 5.7712e-32 - accuracy: 1.0000\n",
            "Epoch 4/5\n",
            "1/1 [==============================] - 0s 293ms/step - loss: 0.0000e+00 - accuracy: 1.0000\n",
            "Epoch 5/5\n",
            "1/1 [==============================] - 0s 307ms/step - loss: 0.0000e+00 - accuracy: 1.0000\n"
          ]
        },
        {
          "output_type": "execute_result",
          "data": {
            "text/plain": [
              "<keras.src.callbacks.History at 0x79338e8eba00>"
            ]
          },
          "metadata": {},
          "execution_count": 2
        }
      ]
    },
    {
      "cell_type": "markdown",
      "source": [
        "## ✅ Inspecting a Cavity Detection Model (CDM) with TensorFlow"
      ],
      "metadata": {
        "id": "ZK-Gb6baA470"
      }
    }
  ]
}